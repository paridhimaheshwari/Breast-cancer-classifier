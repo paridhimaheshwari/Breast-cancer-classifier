{
 "cells": [
  {
   "cell_type": "markdown",
   "metadata": {},
   "source": [
    "### Breast Cancer Classfication\n",
    "\n",
    "*   2 types of tumor: benign and malignant\n",
    "*   Malignant tumors are cancerous\n",
    "*   dataset contains both types of tumors"
   ]
  },
  {
   "cell_type": "markdown",
   "metadata": {},
   "source": [
    "#### workflow goes like:~\n",
    "*   dataset preprocessing\n",
    "*   train and test split\n",
    "*   train the model using logistic regression(best for binary classification)\n",
    "*   then, input applied to the tained model"
   ]
  },
  {
   "cell_type": "code",
   "execution_count": null,
   "metadata": {},
   "outputs": [],
   "source": []
  }
 ],
 "metadata": {
  "language_info": {
   "name": "python"
  }
 },
 "nbformat": 4,
 "nbformat_minor": 2
}
